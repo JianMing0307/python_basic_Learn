{
 "cells": [
  {
   "cell_type": "markdown",
   "metadata": {},
   "source": [
    "# input('字串')\n",
    "## 會傳出str(),可透過int()等去轉換"
   ]
  },
  {
   "cell_type": "code",
   "execution_count": 3,
   "metadata": {},
   "outputs": [
    {
     "name": "stdout",
     "output_type": "stream",
     "text": [
      "15\n"
     ]
    }
   ],
   "source": [
    "#由input()輸出後需要由指定運算子接收\n",
    "input(\"輸入姓名:\")       \n",
    "name = input('請輸入姓名:')  #指定運算子不會傳出值/數學運算子會傳出值\n",
    "print(name)"
   ]
  },
  {
   "cell_type": "code",
   "execution_count": 4,
   "metadata": {},
   "outputs": [],
   "source": [
    "#eval能輸入int/float\n",
    "chinese = eval(input(\"請輸入國文成績:\"))\n",
    "english = eval(input(\"請輸入英文成績:\"))\n"
   ]
  },
  {
   "cell_type": "markdown",
   "metadata": {},
   "source": []
  },
  {
   "cell_type": "markdown",
   "metadata": {},
   "source": [
    "# 字串與變數整合"
   ]
  },
  {
   "cell_type": "markdown",
   "metadata": {},
   "source": [
    "### (加法運算子)"
   ]
  },
  {
   "cell_type": "code",
   "execution_count": 5,
   "metadata": {},
   "outputs": [
    {
     "name": "stdout",
     "output_type": "stream",
     "text": [
      "國文成績:20,英文成績60,總成績:80\n"
     ]
    }
   ],
   "source": [
    "# chinese + english\n",
    "print(\"國文成績:\" + str(chinese) + \",英文成績\" + str(english)+\",總成績:\" + str(chinese+english))   "
   ]
  },
  {
   "cell_type": "markdown",
   "metadata": {},
   "source": [
    "### (字串插補)\n"
   ]
  },
  {
   "cell_type": "code",
   "execution_count": 6,
   "metadata": {},
   "outputs": [
    {
     "name": "stdout",
     "output_type": "stream",
     "text": [
      "國文成績:20,英文成績60,總成績:80\n"
     ]
    }
   ],
   "source": [
    "print(f\"國文成績:{chinese},英文成績{english},總成績:{chinese+english}\")  #一個字串"
   ]
  },
  {
   "cell_type": "code",
   "execution_count": null,
   "metadata": {},
   "outputs": [],
   "source": [
    "#讓使用者輸入被除數(整數)及除數(整數，不可以是零)\n",
    "#程式會顯示兩數相除的商及餘數。\n",
    "\n",
    "m = int(input(\"請輸入被除數(整數):\"))\n",
    "n = int(input(\"除數(整數，不可以是零):\"))\n",
    "\n",
    "print(f\"商:{m // n},餘數:{m % n}\")"
   ]
  },
  {
   "cell_type": "code",
   "execution_count": 8,
   "metadata": {},
   "outputs": [
    {
     "name": "stdout",
     "output_type": "stream",
     "text": [
      "梯形的面積:1650.00平方公分\n"
     ]
    }
   ],
   "source": [
    "#讓使用者輸入梯形的上底、下底及高，程式會計算梯形的面積(上底加下底乘以高除以2)\n",
    "\n",
    "top = eval(input('請輸入梯形的上底(公分):'))\n",
    "bottom = eval(input('請輸入梯形的下底(公分):'))\n",
    "height = eval(input('請輸入梯形的高(公分):'))\n",
    "area = (top + bottom) * height / 2\n",
    "print(f\"梯形的面積:{area:.2f}平方公分\")     #.2f代表取到小數點第二位"
   ]
  },
  {
   "cell_type": "markdown",
   "metadata": {},
   "source": []
  },
  {
   "cell_type": "markdown",
   "metadata": {},
   "source": [
    "# 複合指定運算子 (+=)"
   ]
  },
  {
   "cell_type": "code",
   "execution_count": null,
   "metadata": {},
   "outputs": [],
   "source": [
    "x=10\n",
    "x+5\n",
    "x"
   ]
  },
  {
   "cell_type": "code",
   "execution_count": null,
   "metadata": {},
   "outputs": [],
   "source": [
    "x=10\n",
    "x+=5\n",
    "x"
   ]
  }
 ],
 "metadata": {
  "kernelspec": {
   "display_name": "base",
   "language": "python",
   "name": "python3"
  },
  "language_info": {
   "codemirror_mode": {
    "name": "ipython",
    "version": 3
   },
   "file_extension": ".py",
   "mimetype": "text/x-python",
   "name": "python",
   "nbconvert_exporter": "python",
   "pygments_lexer": "ipython3",
   "version": "3.9.13"
  },
  "orig_nbformat": 4
 },
 "nbformat": 4,
 "nbformat_minor": 2
}
