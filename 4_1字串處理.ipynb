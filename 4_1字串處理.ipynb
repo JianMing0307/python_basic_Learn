{
 "cells": [
  {
   "cell_type": "markdown",
   "metadata": {},
   "source": [
    "# Str()--------->不可變變數"
   ]
  },
  {
   "cell_type": "markdown",
   "metadata": {},
   "source": []
  },
  {
   "cell_type": "markdown",
   "metadata": {},
   "source": [
    "## Str()實體方法"
   ]
  },
  {
   "cell_type": "code",
   "execution_count": 8,
   "metadata": {},
   "outputs": [
    {
     "name": "stdout",
     "output_type": "stream",
     "text": [
      "Taipei\n",
      "That Is Alice'S Cat.\n",
      "That is alice's cat.\n",
      "TAIWAN\n",
      "USA\n"
     ]
    }
   ],
   "source": [
    "print('taipei'.capitalize())\n",
    "print(\"that is Alice's cat.\".title())\n",
    "print(\"that is Alice's cat.\".capitalize())\n",
    "print(\"taiwan\".upper())\n",
    "\n",
    "country = \"usa\"\n",
    "print(country.upper())"
   ]
  },
  {
   "cell_type": "markdown",
   "metadata": {},
   "source": [
    "## Str()換行"
   ]
  },
  {
   "cell_type": "code",
   "execution_count": null,
   "metadata": {},
   "outputs": [],
   "source": [
    "#脫逸字元\n",
    "print('Hello there!\\nHow are you?\\nI\\'m doing fine.')\n",
    "\n",
    "#原始字元\n",
    "print(r'Hello there!\\nHow are you?\\nI\\'m doing fine.')\n",
    "\n",
    "#單行文字\n",
    "sentens = \"Dear Alice,\\\n",
    "Eve's cat has been arrested for \\\n",
    "catnapping, cat burglary, and extortion.Sincerely,Bob\"\n",
    "\n",
    "sentens\n",
    "\n",
    "#多行文字\n",
    "\n",
    "sentens = \"\"\"\n",
    "返回一个由 iterable 中的字符串拼接而成的字符串。 如果 iterable 中存在任何非字符串值包括 bytes 对象则会引发 TypeError。 调用该方法的字符串将作为元素之间的分隔。\n",
    "\n",
    "返回长度为 width 的字符串，原字符串在其中靠左对齐。 使用指定的 fillchar 填充空位 (默认使用 ASCII 空格符)。 如果 width 小于等于 len(s) 则返回原字符串的副本。\n",
    "\"\"\"\n",
    "\n",
    "print(sentens)"
   ]
  },
  {
   "cell_type": "markdown",
   "metadata": {},
   "source": [
    "## Str() slices"
   ]
  },
  {
   "cell_type": "code",
   "execution_count": 1,
   "metadata": {},
   "outputs": [
    {
     "name": "stdout",
     "output_type": "stream",
     "text": [
      "H\n",
      "d\n",
      "d\n",
      "Hello\n",
      "World\n",
      "Hello\n",
      "World\n",
      "Hello\n",
      "World\n"
     ]
    }
   ],
   "source": [
    "#字串的索引編號\n",
    "letters = \"Hello World\"\n",
    "print(letters[0])\n",
    "print(letters[10])\n",
    "print(letters[-1])\n",
    "\n",
    "#字串的slice\n",
    "letters = \"Hello World\"\n",
    "print(letters[0:5])\n",
    "print(letters[6:])\n",
    "print(letters[:5])\n",
    "print(letters[-5:])\n",
    "\n",
    "#常用的\n",
    "print(letters[:5])   #取前面5個\n",
    "print(letters[-5:])  #取後面5個"
   ]
  },
  {
   "cell_type": "markdown",
   "metadata": {},
   "source": [
    "## Str()取代"
   ]
  },
  {
   "cell_type": "code",
   "execution_count": 6,
   "metadata": {},
   "outputs": [
    {
     "name": "stdout",
     "output_type": "stream",
     "text": [
      "Penny\n"
     ]
    }
   ],
   "source": [
    "#方法一\n",
    "name = \"Henny\"\n",
    "#Note:字串是不可變變數\n",
    "#name[0] = 'P' #這是錯誤的\n",
    "\n",
    "name = name.replace('H','P')\n",
    "print(name)\n",
    "\n",
    "# 方法二\n",
    "# name = \"Henny\"\n",
    "# name = 'P' + name[1:]\n",
    "# print(name)"
   ]
  },
  {
   "cell_type": "markdown",
   "metadata": {},
   "source": [
    "## Str()檢查"
   ]
  },
  {
   "cell_type": "code",
   "execution_count": 10,
   "metadata": {},
   "outputs": [
    {
     "name": "stdout",
     "output_type": "stream",
     "text": [
      "True\n",
      "False\n",
      "True\n",
      "False\n",
      "True\n",
      "False\n"
     ]
    }
   ],
   "source": [
    "#字串的檢查\n",
    "print('hello'.isalpha())\n",
    "print('hello123'.isalpha())\n",
    "print('123'.isdecimal())\n",
    "print('123a'.isdecimal())\n",
    "print('hello123'.isalnum())\n",
    "print('hello#123'.isalnum())"
   ]
  }
 ],
 "metadata": {
  "kernelspec": {
   "display_name": "Python 3",
   "language": "python",
   "name": "python3"
  },
  "language_info": {
   "codemirror_mode": {
    "name": "ipython",
    "version": 3
   },
   "file_extension": ".py",
   "mimetype": "text/x-python",
   "name": "python",
   "nbconvert_exporter": "python",
   "pygments_lexer": "ipython3",
   "version": "3.9.13"
  },
  "orig_nbformat": 4,
  "vscode": {
   "interpreter": {
    "hash": "de47f5c92c0ee6f12a59a5613ac5feff6aab19ddff207ba0b3964cced08c4ccc"
   }
  }
 },
 "nbformat": 4,
 "nbformat_minor": 2
}
