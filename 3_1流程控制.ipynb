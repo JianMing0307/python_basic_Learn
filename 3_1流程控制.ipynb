{
 "cells": [
  {
   "cell_type": "markdown",
   "metadata": {},
   "source": [
    "# 流程控制"
   ]
  },
  {
   "cell_type": "markdown",
   "metadata": {},
   "source": []
  },
  {
   "cell_type": "markdown",
   "metadata": {},
   "source": [
    "## 單項選擇\n",
    "### if後面+bool\n",
    "### bool由關係運算子(<, <=, >, >=, ==, !=)產生\n"
   ]
  },
  {
   "cell_type": "code",
   "execution_count": 1,
   "metadata": {},
   "outputs": [
    {
     "data": {
      "text/plain": [
       "True"
      ]
     },
     "execution_count": 1,
     "metadata": {},
     "output_type": "execute_result"
    }
   ],
   "source": [
    "5 == 5"
   ]
  },
  {
   "cell_type": "code",
   "execution_count": 3,
   "metadata": {},
   "outputs": [
    {
     "name": "stdout",
     "output_type": "stream",
     "text": [
      "這位學生\n",
      "及格\n",
      "程式結束\n"
     ]
    }
   ],
   "source": [
    "#if\n",
    "score = int(input(\"請輸入學生分數:\"))\n",
    "if score >= 60:\n",
    "  print(\"這位學生\")\n",
    "  print(\"及格\")\n",
    "\n",
    "\n",
    "print(\"程式結束\")"
   ]
  },
  {
   "cell_type": "markdown",
   "metadata": {},
   "source": [
    "## 雙項選擇"
   ]
  },
  {
   "cell_type": "code",
   "execution_count": 2,
   "metadata": {},
   "outputs": [
    {
     "name": "stdout",
     "output_type": "stream",
     "text": [
      "不及格\n",
      "程式結束\n"
     ]
    }
   ],
   "source": [
    "#if/else \n",
    "score = int(input(\"請輸入學生分數:\"))\n",
    "if score >= 60:\n",
    "  print(\"這位學生\")\n",
    "  print(\"及格\")\n",
    "else:\n",
    "  print(\"不及格\")\n",
    "\n",
    "print(\"程式結束\")"
   ]
  },
  {
   "cell_type": "markdown",
   "metadata": {},
   "source": [
    "## 多項選擇"
   ]
  },
  {
   "cell_type": "code",
   "execution_count": 4,
   "metadata": {},
   "outputs": [
    {
     "name": "stdout",
     "output_type": "stream",
     "text": [
      "丙\n"
     ]
    }
   ],
   "source": [
    "#90(含)~100分為「優」\n",
    "#• 80(含)~89分為「甲」\n",
    "#• 70(含)~79分為「乙」\n",
    "#• 60(含)~69分為「丙」\n",
    "#• 0(含)~59分為「丁」\n",
    "\n",
    "score = int(input(\"請輸入學生分數:\"))\n",
    "if score >= 90:\n",
    "  print('優')\n",
    "elif score >= 80:\n",
    "  print('甲')\n",
    "elif score >= 70:\n",
    "  print('乙')\n",
    "elif score >= 60:\n",
    "  print('丙')\n",
    "else:\n",
    "  print('丁')"
   ]
  }
 ],
 "metadata": {
  "kernelspec": {
   "display_name": "base",
   "language": "python",
   "name": "python3"
  },
  "language_info": {
   "codemirror_mode": {
    "name": "ipython",
    "version": 3
   },
   "file_extension": ".py",
   "mimetype": "text/x-python",
   "name": "python",
   "nbconvert_exporter": "python",
   "pygments_lexer": "ipython3",
   "version": "3.9.13"
  },
  "orig_nbformat": 4
 },
 "nbformat": 4,
 "nbformat_minor": 2
}
