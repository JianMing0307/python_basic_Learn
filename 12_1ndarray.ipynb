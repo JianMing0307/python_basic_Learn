{
 "cells": [
  {
   "cell_type": "code",
   "execution_count": null,
   "metadata": {},
   "outputs": [],
   "source": [
    "import random\n",
    "chinese = [random.randint(60,100) for i in range(50)]\n",
    "english = [random.randint(60,100) for i in range(50)]\n",
    "\n",
    "total_list = []\n",
    "for i in range(50):\n",
    "    total = chinese[i] + english[i]\n",
    "    total_list.append(total)\n",
    "total_list"
   ]
  },
  {
   "cell_type": "code",
   "execution_count": 2,
   "metadata": {},
   "outputs": [
    {
     "data": {
      "text/plain": [
       "array([176, 166, 152, 173, 130, 169, 146, 126, 140, 144, 141, 172, 152,\n",
       "       195, 179, 153, 141, 181, 157, 179, 189, 166, 161, 148, 176, 172,\n",
       "       167, 178, 157, 169, 172, 192, 171, 141, 136, 183, 152, 182, 189,\n",
       "       177, 127, 157, 156, 140, 157, 152, 167, 176, 157, 142])"
      ]
     },
     "execution_count": 2,
     "metadata": {},
     "output_type": "execute_result"
    }
   ],
   "source": [
    "#把list轉成ndarray\n",
    "\n",
    "import random\n",
    "import numpy as np\n",
    "\n",
    "chinese = [random.randint(60,100) for i in range(50)]\n",
    "english = [random.randint(60,100) for i in range(50)]\n",
    "chinese_array = np.array(chinese)\n",
    "english_array = np.array(english)\n",
    "\n",
    "total_array = chinese_array + english_array\n",
    "total_array #2個分數的加總"
   ]
  },
  {
   "cell_type": "code",
   "execution_count": 3,
   "metadata": {},
   "outputs": [
    {
     "data": {
      "text/plain": [
       "array([181, 171, 157, 178, 135, 174, 151, 131, 145, 149, 146, 177, 157,\n",
       "       200, 184, 158, 146, 186, 162, 184, 194, 171, 166, 153, 181, 177,\n",
       "       172, 183, 162, 174, 177, 197, 176, 146, 141, 188, 157, 187, 194,\n",
       "       182, 132, 162, 161, 145, 162, 157, 172, 181, 162, 147])"
      ]
     },
     "execution_count": 3,
     "metadata": {},
     "output_type": "execute_result"
    }
   ],
   "source": [
    "#全班每人總分加5分\n",
    "new_total_array = total_array + 5\n",
    "new_total_array"
   ]
  },
  {
   "cell_type": "code",
   "execution_count": 9,
   "metadata": {},
   "outputs": [
    {
     "name": "stdout",
     "output_type": "stream",
     "text": [
      "81.1\n",
      "81.56\n",
      "167.66\n"
     ]
    }
   ],
   "source": [
    "import numpy as np\n",
    "print(np.mean(chinese_array))\n",
    "print(np.mean(english_array))\n",
    "print(np.mean(new_total_array))"
   ]
  },
  {
   "cell_type": "code",
   "execution_count": 10,
   "metadata": {},
   "outputs": [
    {
     "name": "stdout",
     "output_type": "stream",
     "text": [
      "4055\n",
      "4078\n",
      "8383\n"
     ]
    }
   ],
   "source": [
    "print(np.sum(chinese_array))\n",
    "print(np.sum(english_array))\n",
    "print(np.sum(new_total_array))"
   ]
  },
  {
   "cell_type": "code",
   "execution_count": 11,
   "metadata": {},
   "outputs": [
    {
     "name": "stdout",
     "output_type": "stream",
     "text": [
      "100\n",
      "100\n",
      "205\n"
     ]
    },
    {
     "data": {
      "text/plain": [
       "99"
      ]
     },
     "execution_count": 11,
     "metadata": {},
     "output_type": "execute_result"
    }
   ],
   "source": [
    "print(np.max(chinese_array))\n",
    "print(np.max(english_array))\n",
    "print(np.max(new_total_array))\n",
    "99"
   ]
  },
  {
   "cell_type": "code",
   "execution_count": 12,
   "metadata": {},
   "outputs": [
    {
     "name": "stdout",
     "output_type": "stream",
     "text": [
      "60\n",
      "62\n",
      "127\n"
     ]
    }
   ],
   "source": [
    "print(np.min(chinese_array))\n",
    "print(np.min(english_array))\n",
    "print(np.min(new_total_array))"
   ]
  },
  {
   "cell_type": "code",
   "execution_count": 13,
   "metadata": {},
   "outputs": [
    {
     "name": "stdout",
     "output_type": "stream",
     "text": [
      "13.171560272040669\n",
      "10.94378362359198\n",
      "16.174807572271146\n"
     ]
    }
   ],
   "source": [
    "print(np.std(chinese_array))\n",
    "print(np.std(english_array))\n",
    "print(np.std(new_total_array))"
   ]
  }
 ],
 "metadata": {
  "kernelspec": {
   "display_name": "venv",
   "language": "python",
   "name": "python3"
  },
  "language_info": {
   "codemirror_mode": {
    "name": "ipython",
    "version": 3
   },
   "file_extension": ".py",
   "mimetype": "text/x-python",
   "name": "python",
   "nbconvert_exporter": "python",
   "pygments_lexer": "ipython3",
   "version": "3.11.0"
  },
  "orig_nbformat": 4
 },
 "nbformat": 4,
 "nbformat_minor": 2
}
