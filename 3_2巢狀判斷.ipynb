{
 "cells": [
  {
   "cell_type": "markdown",
   "metadata": {},
   "source": [
    "# 巢狀判斷\n",
    "### (2個以上的條件)"
   ]
  },
  {
   "cell_type": "code",
   "execution_count": 7,
   "metadata": {},
   "outputs": [
    {
     "name": "stdout",
     "output_type": "stream",
     "text": [
      "獎金1000元\n"
     ]
    }
   ],
   "source": [
    "#國文和數學分數都100分有獎金1000\n",
    "chinese = 100\n",
    "math = 100\n",
    "\n",
    "if chinese == 100:\n",
    "    if math == 100:\n",
    "        print(\"獎金1000元\")\n",
    "    else:\n",
    "        print(\"沒有獎金\")\n",
    "else:\n",
    "    print(\"沒有獎金\")"
   ]
  },
  {
   "cell_type": "code",
   "execution_count": 9,
   "metadata": {},
   "outputs": [
    {
     "name": "stdout",
     "output_type": "stream",
     "text": [
      "獎金500元\n"
     ]
    }
   ],
   "source": [
    "#國文和數學分數都100分,獎金1000\n",
    "#若國文或數學其中一科100分,獎金500\n",
    "chinese = 100\n",
    "math = 90\n",
    "\n",
    "if chinese == 100:\n",
    "    if math == 100:\n",
    "        print(\"獎金1000元\")\n",
    "    else:\n",
    "        print(\"獎金500元\")\n",
    "else:\n",
    "    if math == 100:\n",
    "        print(\"獎金500元\")\n",
    "    else:\n",
    "        print(\"沒有獎金\")"
   ]
  },
  {
   "cell_type": "code",
   "execution_count": 10,
   "metadata": {},
   "outputs": [
    {
     "name": "stdout",
     "output_type": "stream",
     "text": [
      "獎金0元\n"
     ]
    }
   ],
   "source": [
    "#雙向選擇/巢狀/邏輯運算子(and/or/not)\n",
    "chinese = 99\n",
    "math = 99\n",
    "\n",
    "if chinese == 100 and math == 100:\n",
    "    print(\"獎金1000元\")\n",
    "else:\n",
    "    if chinese == 100 or math == 100:\n",
    "        print(\"獎金500元\")\n",
    "    else:\n",
    "        print(\"獎金0元\")"
   ]
  },
  {
   "cell_type": "code",
   "execution_count": 1,
   "metadata": {},
   "outputs": [
    {
     "name": "stdout",
     "output_type": "stream",
     "text": [
      "獎金1000元\n",
      "獎金1000\n",
      "獎金500\n"
     ]
    }
   ],
   "source": [
    "#多項選擇/邏輯運算子(最最簡潔方法)\n",
    "chinese = 100\n",
    "math = 100\n",
    "\n",
    "if chinese == 100 and math == 100:\n",
    "    print(\"獎金1000元\")\n",
    "elif chinese == 100 or math == 100:    \n",
    "    print(\"獎金500元\")\n",
    "else:\n",
    "    print(\"獎金0元\")\n",
    "\n",
    "\n",
    "#邏輯錯誤範例\n",
    "if chinese == 100 and math == 100:\n",
    "    print(\"獎金1000\")\n",
    "if chinese == 100 or math == 100:\n",
    "    print (\"獎金500\")\n"
   ]
  },
  {
   "cell_type": "code",
   "execution_count": 12,
   "metadata": {},
   "outputs": [
    {
     "name": "stdout",
     "output_type": "stream",
     "text": [
      "高血壓\n"
     ]
    }
   ],
   "source": [
    "#連續數值用畫圖的叫好理解\n",
    "pressure = int(input(\"請輸入您的血壓:\"))\n",
    "if pressure >= 90 and pressure <= 140:\n",
    "    print(\"血壓正常\")\n",
    "elif pressure > 140:\n",
    "    print(\"高血壓\")\n",
    "else:\n",
    "    print(\"低血壓\")"
   ]
  },
  {
   "cell_type": "code",
   "execution_count": 13,
   "metadata": {},
   "outputs": [
    {
     "name": "stdout",
     "output_type": "stream",
     "text": [
      "丙\n"
     ]
    }
   ],
   "source": [
    "scores = int(input(\"請輸入學生分數\"))\n",
    "if scores >= 90:\n",
    "    print(\"優\")\n",
    "elif scores >= 80:\n",
    "    print(\"甲\")\n",
    "elif scores >= 70:\n",
    "    print(\"乙\")\n",
    "elif scores >= 60:\n",
    "    print(\"丙\")\n",
    "else:\n",
    "    print(\"丁\")"
   ]
  },
  {
   "cell_type": "code",
   "execution_count": 4,
   "metadata": {},
   "outputs": [
    {
     "name": "stdout",
     "output_type": "stream",
     "text": [
      "身高173公分\n",
      "體重為60公斤\n",
      "您的BMI是20.04744562130375\n",
      "體重正常\n"
     ]
    }
   ],
   "source": [
    "#homework\n",
    "#BMI計算\n",
    "tall = int(input(\"請輸入身高,單位為(公分):\"))\n",
    "weight = int(input(\"請輸入體重,單位為(公斤):\"))\n",
    "\n",
    "BMI = weight/(tall/100)**2\n",
    "print(f'身高{tall}公分')\n",
    "print(f'體重為{weight}公斤')\n",
    "print(f'您的BMI是{BMI}')\n",
    "\n",
    "if BMI > 30:\n",
    "    print(\"體重肥胖\")\n",
    "elif  25<BMI<=30:\n",
    "    print(\"體重過重\")\n",
    "elif  18.5<BMI<=25:\n",
    "    print(\"體重正常\")\n",
    "else:\n",
    "    print(\"體重過輕\")\n",
    "\n"
   ]
  }
 ],
 "metadata": {
  "kernelspec": {
   "display_name": "Python 3",
   "language": "python",
   "name": "python3"
  },
  "language_info": {
   "codemirror_mode": {
    "name": "ipython",
    "version": 3
   },
   "file_extension": ".py",
   "mimetype": "text/x-python",
   "name": "python",
   "nbconvert_exporter": "python",
   "pygments_lexer": "ipython3",
   "version": "3.9.13"
  },
  "orig_nbformat": 4,
  "vscode": {
   "interpreter": {
    "hash": "de47f5c92c0ee6f12a59a5613ac5feff6aab19ddff207ba0b3964cced08c4ccc"
   }
  }
 },
 "nbformat": 4,
 "nbformat_minor": 2
}
