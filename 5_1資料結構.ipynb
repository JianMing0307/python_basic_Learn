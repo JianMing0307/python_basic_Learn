{
 "cells": [
  {
   "cell_type": "markdown",
   "metadata": {},
   "source": [
    "# 資料結構\n",
    "## (tuple, list, dict, set)　"
   ]
  },
  {
   "cell_type": "markdown",
   "metadata": {},
   "source": []
  },
  {
   "cell_type": "markdown",
   "metadata": {},
   "source": [
    "# 1.list()------------------->可變變數/用index取出值\n",
    "## (使用[ ]/ list()建立)"
   ]
  },
  {
   "cell_type": "code",
   "execution_count": 1,
   "metadata": {},
   "outputs": [
    {
     "name": "stdout",
     "output_type": "stream",
     "text": [
      "2\n",
      "4\n",
      "6\n",
      "8\n"
     ]
    }
   ],
   "source": [
    "nums = [2, 4, 6, 8]\n",
    "print(nums[0])\n",
    "print(nums[1])\n",
    "print(nums[2])\n",
    "print(nums[3])"
   ]
  },
  {
   "cell_type": "code",
   "execution_count": 2,
   "metadata": {},
   "outputs": [
    {
     "name": "stdout",
     "output_type": "stream",
     "text": [
      "2\n",
      "4\n",
      "6\n",
      "8\n"
     ]
    }
   ],
   "source": [
    "for i in range(4):\n",
    "    print(nums[i]) "
   ]
  },
  {
   "cell_type": "code",
   "execution_count": 3,
   "metadata": {},
   "outputs": [
    {
     "name": "stdout",
     "output_type": "stream",
     "text": [
      "2\n",
      "4\n",
      "6\n",
      "8\n"
     ]
    }
   ],
   "source": [
    "for item in nums:\n",
    "    print(item)"
   ]
  },
  {
   "cell_type": "code",
   "execution_count": 4,
   "metadata": {},
   "outputs": [
    {
     "name": "stdout",
     "output_type": "stream",
     "text": [
      "星期一\n",
      "星期二\n",
      "星期三\n",
      "星期四\n",
      "星期五\n",
      "星期六\n",
      "星期日\n"
     ]
    }
   ],
   "source": [
    "weekdays = ['星期一', '星期二', '星期三', '星期四', '星期五', '星期六', '星期日']\n",
    "for item in weekdays:\n",
    "    print(item)"
   ]
  },
  {
   "cell_type": "markdown",
   "metadata": {},
   "source": []
  },
  {
   "cell_type": "code",
   "execution_count": 5,
   "metadata": {},
   "outputs": [
    {
     "data": {
      "text/plain": [
       "['a',\n",
       " 'b',\n",
       " 'c',\n",
       " 'd',\n",
       " 'e',\n",
       " 'f',\n",
       " 'g',\n",
       " 'h',\n",
       " 'i',\n",
       " 'j',\n",
       " 'k',\n",
       " 'l',\n",
       " 'm',\n",
       " 'n',\n",
       " 'o',\n",
       " 'p',\n",
       " 'q',\n",
       " 'r',\n",
       " 's',\n",
       " 't',\n",
       " 'u',\n",
       " 'v',\n",
       " 'w',\n",
       " 'x',\n",
       " 'y',\n",
       " 'z']"
      ]
     },
     "execution_count": 5,
     "metadata": {},
     "output_type": "execute_result"
    }
   ],
   "source": [
    "list('abcdefghijklmnopqrstuvwxyz')\n"
   ]
  },
  {
   "cell_type": "code",
   "execution_count": 6,
   "metadata": {},
   "outputs": [
    {
     "data": {
      "text/plain": [
       "[1,\n",
       " 2,\n",
       " 3,\n",
       " 4,\n",
       " 5,\n",
       " 6,\n",
       " 7,\n",
       " 8,\n",
       " 9,\n",
       " 10,\n",
       " 11,\n",
       " 12,\n",
       " 13,\n",
       " 14,\n",
       " 15,\n",
       " 16,\n",
       " 17,\n",
       " 18,\n",
       " 19,\n",
       " 20,\n",
       " 21,\n",
       " 22,\n",
       " 23,\n",
       " 24,\n",
       " 25,\n",
       " 26,\n",
       " 27,\n",
       " 28,\n",
       " 29,\n",
       " 30,\n",
       " 31,\n",
       " 32,\n",
       " 33,\n",
       " 34,\n",
       " 35,\n",
       " 36,\n",
       " 37,\n",
       " 38,\n",
       " 39,\n",
       " 40,\n",
       " 41,\n",
       " 42,\n",
       " 43,\n",
       " 44,\n",
       " 45,\n",
       " 46,\n",
       " 47,\n",
       " 48,\n",
       " 49,\n",
       " 50,\n",
       " 51,\n",
       " 52,\n",
       " 53,\n",
       " 54,\n",
       " 55,\n",
       " 56,\n",
       " 57,\n",
       " 58,\n",
       " 59,\n",
       " 60,\n",
       " 61,\n",
       " 62,\n",
       " 63,\n",
       " 64,\n",
       " 65,\n",
       " 66,\n",
       " 67,\n",
       " 68,\n",
       " 69,\n",
       " 70,\n",
       " 71,\n",
       " 72,\n",
       " 73,\n",
       " 74,\n",
       " 75,\n",
       " 76,\n",
       " 77,\n",
       " 78,\n",
       " 79,\n",
       " 80,\n",
       " 81,\n",
       " 82,\n",
       " 83,\n",
       " 84,\n",
       " 85,\n",
       " 86,\n",
       " 87,\n",
       " 88,\n",
       " 89,\n",
       " 90,\n",
       " 91,\n",
       " 92,\n",
       " 93,\n",
       " 94,\n",
       " 95,\n",
       " 96,\n",
       " 97,\n",
       " 98,\n",
       " 99,\n",
       " 100]"
      ]
     },
     "execution_count": 6,
     "metadata": {},
     "output_type": "execute_result"
    }
   ],
   "source": [
    "list(range(1,101))"
   ]
  },
  {
   "cell_type": "code",
   "execution_count": 7,
   "metadata": {},
   "outputs": [
    {
     "name": "stdout",
     "output_type": "stream",
     "text": [
      "2023\n",
      "01\n",
      "07\n",
      "===================\n",
      "07\n",
      "01\n",
      "2023\n"
     ]
    }
   ],
   "source": [
    "date_str = '2023/01/07'\n",
    "type(date_str)\n",
    "items = date_str.split('/')   #split是字串實體方法，會輸出list\n",
    "for item in items:\n",
    "    print(item)\n",
    "\n",
    "print(\"===================\")\n",
    "items.reverse()               #reverse是list()實體方法\n",
    "for item in items:\n",
    "    print(item)\n",
    "    "
   ]
  },
  {
   "cell_type": "markdown",
   "metadata": {},
   "source": []
  },
  {
   "cell_type": "markdown",
   "metadata": {},
   "source": [
    "## 建立空的list並新增內容"
   ]
  },
  {
   "cell_type": "code",
   "execution_count": 8,
   "metadata": {},
   "outputs": [
    {
     "data": {
      "text/plain": [
       "['星期一', '星期二', '星期三', '星期四', '星期五', '星期六', '星期日']"
      ]
     },
     "execution_count": 8,
     "metadata": {},
     "output_type": "execute_result"
    }
   ],
   "source": [
    "\n",
    "empty_list = list()\n",
    "empty_list.append('星期一')\n",
    "empty_list.append('星期二')\n",
    "empty_list.append('星期三')\n",
    "empty_list.append('星期四')\n",
    "empty_list.append('星期五')\n",
    "empty_list.append('星期六')\n",
    "empty_list.append('星期日')\n",
    "\n",
    "empty_list"
   ]
  },
  {
   "cell_type": "code",
   "execution_count": 1,
   "metadata": {},
   "outputs": [
    {
     "name": "stdout",
     "output_type": "stream",
     "text": [
      "2\n",
      "3\n",
      "4\n"
     ]
    }
   ],
   "source": [
    "#請輸入數值,輸入-1退出,並顯示您先前輸入的值\n",
    "nums = []\n",
    "while(True):\n",
    "    input_value = int(input(\"請輸入數值:\"))    \n",
    "    if input_value < 0:\n",
    "        break;              #;可有可無\n",
    "    nums.append(input_value)\n",
    "\n",
    "for num in nums:\n",
    "    print(num)"
   ]
  },
  {
   "cell_type": "code",
   "execution_count": null,
   "metadata": {},
   "outputs": [
    {
     "data": {
      "text/plain": [
       "'星期三'"
      ]
     },
     "execution_count": 10,
     "metadata": {},
     "output_type": "execute_result"
    }
   ],
   "source": [
    "import random\n",
    "weekdays = ['星期一', '星期二', '星期三', '星期四', '星期五', '星期六', '星期日']\n",
    "random.choice(weekdays)        #random是module,choice是module裡面的函數"
   ]
  },
  {
   "cell_type": "markdown",
   "metadata": {},
   "source": []
  },
  {
   "cell_type": "markdown",
   "metadata": {},
   "source": [
    "# 2.tuple()----------->不可變變數"
   ]
  },
  {
   "cell_type": "markdown",
   "metadata": {},
   "source": [
    "## 建立tuple方法:( )"
   ]
  },
  {
   "cell_type": "code",
   "execution_count": 3,
   "metadata": {},
   "outputs": [
    {
     "name": "stdout",
     "output_type": "stream",
     "text": [
      "2\n",
      "4\n",
      "6\n"
     ]
    }
   ],
   "source": [
    "myTuple = (2, 4, 6)\n",
    "for i in myTuple:\n",
    "    print(i)"
   ]
  },
  {
   "cell_type": "markdown",
   "metadata": {},
   "source": [
    "### tuple()拆解法"
   ]
  },
  {
   "cell_type": "code",
   "execution_count": 4,
   "metadata": {},
   "outputs": [
    {
     "name": "stdout",
     "output_type": "stream",
     "text": [
      "10\n",
      "20\n",
      "30\n"
     ]
    }
   ],
   "source": [
    "a,b,c = 10, 20 ,30         #可省略括號()\n",
    "print(a)\n",
    "print(b)\n",
    "print(c)"
   ]
  },
  {
   "cell_type": "code",
   "execution_count": 5,
   "metadata": {},
   "outputs": [
    {
     "data": {
      "text/plain": [
       "(10, 20, 30)"
      ]
     },
     "execution_count": 5,
     "metadata": {},
     "output_type": "execute_result"
    }
   ],
   "source": [
    "a,b,c"
   ]
  },
  {
   "cell_type": "markdown",
   "metadata": {},
   "source": []
  },
  {
   "cell_type": "markdown",
   "metadata": {},
   "source": [
    "# 3.dict()----------->透過key取出值"
   ]
  },
  {
   "cell_type": "markdown",
   "metadata": {},
   "source": [
    "## 建立dict方法:{ }/dict()"
   ]
  },
  {
   "cell_type": "code",
   "execution_count": 7,
   "metadata": {},
   "outputs": [
    {
     "name": "stdout",
     "output_type": "stream",
     "text": [
      "{'tw': 'taiwan', 'jp': 'japan'}\n",
      "taiwan\n",
      "japan\n"
     ]
    }
   ],
   "source": [
    "#dictionary(沒有索引值)\n",
    "codes = {'tw':'taiwan', 'jp':'japan'}\n",
    "print(codes)\n",
    "print(codes['tw'])\n",
    "print(codes['jp'])"
   ]
  },
  {
   "cell_type": "code",
   "execution_count": 9,
   "metadata": {},
   "outputs": [
    {
     "name": "stdout",
     "output_type": "stream",
     "text": [
      "tw\n",
      "jp\n",
      "---------------------------\n",
      "taiwan\n",
      "japan\n"
     ]
    }
   ],
   "source": [
    "#for in會跑出 key\n",
    "for key in codes:\n",
    "    print(key)\n",
    "\n",
    "print(\"---------------------------\")\n",
    "#for in會跑出 value\n",
    "for key in codes:\n",
    "    print(codes[key])"
   ]
  },
  {
   "cell_type": "code",
   "execution_count": null,
   "metadata": {},
   "outputs": [],
   "source": []
  },
  {
   "cell_type": "markdown",
   "metadata": {},
   "source": [
    "## 建立空的dictionary並新增"
   ]
  },
  {
   "cell_type": "code",
   "execution_count": 10,
   "metadata": {},
   "outputs": [
    {
     "data": {
      "text/plain": [
       "{'one': 1, 'two': 2, 'three': 3}"
      ]
     },
     "execution_count": 10,
     "metadata": {},
     "output_type": "execute_result"
    }
   ],
   "source": [
    "empty_dict = {}\n",
    "empty_dict['one'] = 1\n",
    "empty_dict['two'] = 2\n",
    "empty_dict['three'] = 3\n",
    "empty_dict"
   ]
  },
  {
   "cell_type": "code",
   "execution_count": 11,
   "metadata": {},
   "outputs": [
    {
     "name": "stdout",
     "output_type": "stream",
     "text": [
      "one\n",
      "1\n",
      "two\n",
      "2\n",
      "three\n",
      "3\n"
     ]
    }
   ],
   "source": [
    "empty_dict1 = {}\n",
    "empty_dict1[1] = 'one'\n",
    "empty_dict1[2] = 'two'\n",
    "empty_dict1[3] = 'three'\n",
    "for key in empty_dict1:\n",
    "    print(empty_dict1[key])\n",
    "    print(key)"
   ]
  },
  {
   "cell_type": "code",
   "execution_count": null,
   "metadata": {},
   "outputs": [],
   "source": []
  },
  {
   "cell_type": "markdown",
   "metadata": {},
   "source": [
    "# Example:整合list/dict"
   ]
  },
  {
   "cell_type": "code",
   "execution_count": 12,
   "metadata": {},
   "outputs": [
    {
     "data": {
      "text/plain": [
       "{'name': 'robert',\n",
       " 'chinese': 89,\n",
       " 'english': 75,\n",
       " 'math': 92,\n",
       " 'history': 64,\n",
       " 'distory': 89}"
      ]
     },
     "execution_count": 12,
     "metadata": {},
     "output_type": "execute_result"
    }
   ],
   "source": [
    "scores = {}\n",
    "scores['name'] = 'robert'\n",
    "scores['chinese'] = 89\n",
    "scores['english'] = 75\n",
    "scores['math'] = 92\n",
    "scores['history'] = 64\n",
    "scores['distory'] = 89\n",
    "\n",
    "scores"
   ]
  },
  {
   "cell_type": "code",
   "execution_count": 13,
   "metadata": {},
   "outputs": [],
   "source": [
    "#list裡有2組dict\n",
    "students = []\n",
    "score1 = {}\n",
    "score1['name'] = 'robert'\n",
    "score1['chinese'] = 89\n",
    "score1['english'] = 75\n",
    "score1['math'] = 92\n",
    "score1['history'] = 64\n",
    "score1['distory'] = 89\n",
    "students.append(score1) #加入第一個學生\n",
    "\n",
    "score2 = {}\n",
    "score2['name'] = 'jenny'\n",
    "score2['chinese'] = 97\n",
    "score2['english'] = 67\n",
    "score2['math'] = 78\n",
    "score2['history'] = 79\n",
    "score2['distory'] = 92\n",
    "students.append(score2)"
   ]
  },
  {
   "cell_type": "code",
   "execution_count": 14,
   "metadata": {},
   "outputs": [
    {
     "data": {
      "text/plain": [
       "[{'name': 'robert',\n",
       "  'chinese': 89,\n",
       "  'english': 75,\n",
       "  'math': 92,\n",
       "  'history': 64,\n",
       "  'distory': 89},\n",
       " {'name': 'jenny',\n",
       "  'chinese': 97,\n",
       "  'english': 67,\n",
       "  'math': 78,\n",
       "  'history': 79,\n",
       "  'distory': 92}]"
      ]
     },
     "execution_count": 14,
     "metadata": {},
     "output_type": "execute_result"
    }
   ],
   "source": [
    "students"
   ]
  },
  {
   "cell_type": "code",
   "execution_count": 15,
   "metadata": {},
   "outputs": [
    {
     "name": "stdout",
     "output_type": "stream",
     "text": [
      "name robert\n",
      "chinese 89\n",
      "english 75\n",
      "math 92\n",
      "history 64\n",
      "distory 89\n",
      "==============\n",
      "name jenny\n",
      "chinese 97\n",
      "english 67\n",
      "math 78\n",
      "history 79\n",
      "distory 92\n",
      "==============\n"
     ]
    }
   ],
   "source": [
    "for student in students:\n",
    "    for key in student:\n",
    "        print(key,student[key])\n",
    "    print(\"==============\")"
   ]
  },
  {
   "cell_type": "code",
   "execution_count": 16,
   "metadata": {},
   "outputs": [
    {
     "name": "stdout",
     "output_type": "stream",
     "text": [
      "[{'name': '學生1', 'chinese': 85, 'english': 76, 'math': 56, 'history': 78, 'discover': 55}, {'name': '學生2', 'chinese': 74, 'english': 84, 'math': 56, 'history': 62, 'discover': 86}, {'name': '學生3', 'chinese': 74, 'english': 54, 'math': 62, 'history': 86, 'discover': 64}, {'name': '學生4', 'chinese': 82, 'english': 69, 'math': 88, 'history': 57, 'discover': 98}, {'name': '學生5', 'chinese': 99, 'english': 63, 'math': 76, 'history': 54, 'discover': 58}, {'name': '學生6', 'chinese': 59, 'english': 53, 'math': 70, 'history': 88, 'discover': 69}, {'name': '學生7', 'chinese': 92, 'english': 63, 'math': 94, 'history': 74, 'discover': 69}, {'name': '學生8', 'chinese': 87, 'english': 77, 'math': 51, 'history': 52, 'discover': 58}, {'name': '學生9', 'chinese': 68, 'english': 90, 'math': 81, 'history': 76, 'discover': 58}, {'name': '學生10', 'chinese': 55, 'english': 85, 'math': 60, 'history': 62, 'discover': 58}, {'name': '學生11', 'chinese': 88, 'english': 62, 'math': 63, 'history': 61, 'discover': 90}, {'name': '學生12', 'chinese': 70, 'english': 81, 'math': 95, 'history': 92, 'discover': 75}, {'name': '學生13', 'chinese': 74, 'english': 53, 'math': 96, 'history': 92, 'discover': 68}, {'name': '學生14', 'chinese': 99, 'english': 64, 'math': 82, 'history': 57, 'discover': 52}, {'name': '學生15', 'chinese': 73, 'english': 77, 'math': 75, 'history': 97, 'discover': 56}, {'name': '學生16', 'chinese': 54, 'english': 92, 'math': 93, 'history': 85, 'discover': 70}, {'name': '學生17', 'chinese': 70, 'english': 53, 'math': 57, 'history': 94, 'discover': 98}, {'name': '學生18', 'chinese': 89, 'english': 86, 'math': 51, 'history': 63, 'discover': 64}, {'name': '學生19', 'chinese': 95, 'english': 84, 'math': 91, 'history': 90, 'discover': 90}, {'name': '學生20', 'chinese': 76, 'english': 60, 'math': 58, 'history': 75, 'discover': 87}, {'name': '學生21', 'chinese': 99, 'english': 91, 'math': 52, 'history': 91, 'discover': 70}, {'name': '學生22', 'chinese': 55, 'english': 77, 'math': 88, 'history': 99, 'discover': 68}, {'name': '學生23', 'chinese': 100, 'english': 91, 'math': 72, 'history': 96, 'discover': 53}, {'name': '學生24', 'chinese': 61, 'english': 60, 'math': 60, 'history': 100, 'discover': 68}, {'name': '學生25', 'chinese': 87, 'english': 60, 'math': 100, 'history': 99, 'discover': 61}, {'name': '學生26', 'chinese': 89, 'english': 73, 'math': 84, 'history': 80, 'discover': 68}, {'name': '學生27', 'chinese': 68, 'english': 81, 'math': 73, 'history': 56, 'discover': 59}, {'name': '學生28', 'chinese': 58, 'english': 61, 'math': 66, 'history': 75, 'discover': 63}, {'name': '學生29', 'chinese': 63, 'english': 54, 'math': 63, 'history': 63, 'discover': 77}, {'name': '學生30', 'chinese': 69, 'english': 56, 'math': 79, 'history': 50, 'discover': 51}, {'name': '學生31', 'chinese': 65, 'english': 73, 'math': 76, 'history': 70, 'discover': 91}, {'name': '學生32', 'chinese': 81, 'english': 97, 'math': 70, 'history': 81, 'discover': 93}, {'name': '學生33', 'chinese': 88, 'english': 88, 'math': 99, 'history': 100, 'discover': 56}, {'name': '學生34', 'chinese': 89, 'english': 59, 'math': 93, 'history': 86, 'discover': 71}, {'name': '學生35', 'chinese': 92, 'english': 74, 'math': 70, 'history': 57, 'discover': 57}, {'name': '學生36', 'chinese': 74, 'english': 99, 'math': 75, 'history': 90, 'discover': 97}, {'name': '學生37', 'chinese': 87, 'english': 90, 'math': 67, 'history': 63, 'discover': 73}, {'name': '學生38', 'chinese': 85, 'english': 77, 'math': 64, 'history': 50, 'discover': 65}, {'name': '學生39', 'chinese': 60, 'english': 53, 'math': 98, 'history': 89, 'discover': 68}, {'name': '學生40', 'chinese': 70, 'english': 59, 'math': 66, 'history': 96, 'discover': 98}, {'name': '學生41', 'chinese': 98, 'english': 70, 'math': 97, 'history': 83, 'discover': 76}, {'name': '學生42', 'chinese': 51, 'english': 92, 'math': 90, 'history': 70, 'discover': 66}, {'name': '學生43', 'chinese': 99, 'english': 91, 'math': 89, 'history': 56, 'discover': 66}, {'name': '學生44', 'chinese': 68, 'english': 51, 'math': 80, 'history': 79, 'discover': 94}, {'name': '學生45', 'chinese': 93, 'english': 71, 'math': 93, 'history': 91, 'discover': 75}, {'name': '學生46', 'chinese': 84, 'english': 93, 'math': 95, 'history': 87, 'discover': 59}, {'name': '學生47', 'chinese': 70, 'english': 87, 'math': 56, 'history': 91, 'discover': 85}, {'name': '學生48', 'chinese': 78, 'english': 83, 'math': 70, 'history': 80, 'discover': 99}, {'name': '學生49', 'chinese': 62, 'english': 90, 'math': 95, 'history': 98, 'discover': 96}, {'name': '學生50', 'chinese': 94, 'english': 85, 'math': 90, 'history': 81, 'discover': 62}]\n",
      "name=學生1\n",
      "chinese=85\n",
      "english=76\n",
      "math=56\n",
      "history=78\n",
      "discover=55\n",
      "==============\n",
      "name=學生2\n",
      "chinese=74\n",
      "english=84\n",
      "math=56\n",
      "history=62\n",
      "discover=86\n",
      "==============\n",
      "name=學生3\n",
      "chinese=74\n",
      "english=54\n",
      "math=62\n",
      "history=86\n",
      "discover=64\n",
      "==============\n",
      "name=學生4\n",
      "chinese=82\n",
      "english=69\n",
      "math=88\n",
      "history=57\n",
      "discover=98\n",
      "==============\n",
      "name=學生5\n",
      "chinese=99\n",
      "english=63\n",
      "math=76\n",
      "history=54\n",
      "discover=58\n",
      "==============\n",
      "name=學生6\n",
      "chinese=59\n",
      "english=53\n",
      "math=70\n",
      "history=88\n",
      "discover=69\n",
      "==============\n",
      "name=學生7\n",
      "chinese=92\n",
      "english=63\n",
      "math=94\n",
      "history=74\n",
      "discover=69\n",
      "==============\n",
      "name=學生8\n",
      "chinese=87\n",
      "english=77\n",
      "math=51\n",
      "history=52\n",
      "discover=58\n",
      "==============\n",
      "name=學生9\n",
      "chinese=68\n",
      "english=90\n",
      "math=81\n",
      "history=76\n",
      "discover=58\n",
      "==============\n",
      "name=學生10\n",
      "chinese=55\n",
      "english=85\n",
      "math=60\n",
      "history=62\n",
      "discover=58\n",
      "==============\n",
      "name=學生11\n",
      "chinese=88\n",
      "english=62\n",
      "math=63\n",
      "history=61\n",
      "discover=90\n",
      "==============\n",
      "name=學生12\n",
      "chinese=70\n",
      "english=81\n",
      "math=95\n",
      "history=92\n",
      "discover=75\n",
      "==============\n",
      "name=學生13\n",
      "chinese=74\n",
      "english=53\n",
      "math=96\n",
      "history=92\n",
      "discover=68\n",
      "==============\n",
      "name=學生14\n",
      "chinese=99\n",
      "english=64\n",
      "math=82\n",
      "history=57\n",
      "discover=52\n",
      "==============\n",
      "name=學生15\n",
      "chinese=73\n",
      "english=77\n",
      "math=75\n",
      "history=97\n",
      "discover=56\n",
      "==============\n",
      "name=學生16\n",
      "chinese=54\n",
      "english=92\n",
      "math=93\n",
      "history=85\n",
      "discover=70\n",
      "==============\n",
      "name=學生17\n",
      "chinese=70\n",
      "english=53\n",
      "math=57\n",
      "history=94\n",
      "discover=98\n",
      "==============\n",
      "name=學生18\n",
      "chinese=89\n",
      "english=86\n",
      "math=51\n",
      "history=63\n",
      "discover=64\n",
      "==============\n",
      "name=學生19\n",
      "chinese=95\n",
      "english=84\n",
      "math=91\n",
      "history=90\n",
      "discover=90\n",
      "==============\n",
      "name=學生20\n",
      "chinese=76\n",
      "english=60\n",
      "math=58\n",
      "history=75\n",
      "discover=87\n",
      "==============\n",
      "name=學生21\n",
      "chinese=99\n",
      "english=91\n",
      "math=52\n",
      "history=91\n",
      "discover=70\n",
      "==============\n",
      "name=學生22\n",
      "chinese=55\n",
      "english=77\n",
      "math=88\n",
      "history=99\n",
      "discover=68\n",
      "==============\n",
      "name=學生23\n",
      "chinese=100\n",
      "english=91\n",
      "math=72\n",
      "history=96\n",
      "discover=53\n",
      "==============\n",
      "name=學生24\n",
      "chinese=61\n",
      "english=60\n",
      "math=60\n",
      "history=100\n",
      "discover=68\n",
      "==============\n",
      "name=學生25\n",
      "chinese=87\n",
      "english=60\n",
      "math=100\n",
      "history=99\n",
      "discover=61\n",
      "==============\n",
      "name=學生26\n",
      "chinese=89\n",
      "english=73\n",
      "math=84\n",
      "history=80\n",
      "discover=68\n",
      "==============\n",
      "name=學生27\n",
      "chinese=68\n",
      "english=81\n",
      "math=73\n",
      "history=56\n",
      "discover=59\n",
      "==============\n",
      "name=學生28\n",
      "chinese=58\n",
      "english=61\n",
      "math=66\n",
      "history=75\n",
      "discover=63\n",
      "==============\n",
      "name=學生29\n",
      "chinese=63\n",
      "english=54\n",
      "math=63\n",
      "history=63\n",
      "discover=77\n",
      "==============\n",
      "name=學生30\n",
      "chinese=69\n",
      "english=56\n",
      "math=79\n",
      "history=50\n",
      "discover=51\n",
      "==============\n",
      "name=學生31\n",
      "chinese=65\n",
      "english=73\n",
      "math=76\n",
      "history=70\n",
      "discover=91\n",
      "==============\n",
      "name=學生32\n",
      "chinese=81\n",
      "english=97\n",
      "math=70\n",
      "history=81\n",
      "discover=93\n",
      "==============\n",
      "name=學生33\n",
      "chinese=88\n",
      "english=88\n",
      "math=99\n",
      "history=100\n",
      "discover=56\n",
      "==============\n",
      "name=學生34\n",
      "chinese=89\n",
      "english=59\n",
      "math=93\n",
      "history=86\n",
      "discover=71\n",
      "==============\n",
      "name=學生35\n",
      "chinese=92\n",
      "english=74\n",
      "math=70\n",
      "history=57\n",
      "discover=57\n",
      "==============\n",
      "name=學生36\n",
      "chinese=74\n",
      "english=99\n",
      "math=75\n",
      "history=90\n",
      "discover=97\n",
      "==============\n",
      "name=學生37\n",
      "chinese=87\n",
      "english=90\n",
      "math=67\n",
      "history=63\n",
      "discover=73\n",
      "==============\n",
      "name=學生38\n",
      "chinese=85\n",
      "english=77\n",
      "math=64\n",
      "history=50\n",
      "discover=65\n",
      "==============\n",
      "name=學生39\n",
      "chinese=60\n",
      "english=53\n",
      "math=98\n",
      "history=89\n",
      "discover=68\n",
      "==============\n",
      "name=學生40\n",
      "chinese=70\n",
      "english=59\n",
      "math=66\n",
      "history=96\n",
      "discover=98\n",
      "==============\n",
      "name=學生41\n",
      "chinese=98\n",
      "english=70\n",
      "math=97\n",
      "history=83\n",
      "discover=76\n",
      "==============\n",
      "name=學生42\n",
      "chinese=51\n",
      "english=92\n",
      "math=90\n",
      "history=70\n",
      "discover=66\n",
      "==============\n",
      "name=學生43\n",
      "chinese=99\n",
      "english=91\n",
      "math=89\n",
      "history=56\n",
      "discover=66\n",
      "==============\n",
      "name=學生44\n",
      "chinese=68\n",
      "english=51\n",
      "math=80\n",
      "history=79\n",
      "discover=94\n",
      "==============\n",
      "name=學生45\n",
      "chinese=93\n",
      "english=71\n",
      "math=93\n",
      "history=91\n",
      "discover=75\n",
      "==============\n",
      "name=學生46\n",
      "chinese=84\n",
      "english=93\n",
      "math=95\n",
      "history=87\n",
      "discover=59\n",
      "==============\n",
      "name=學生47\n",
      "chinese=70\n",
      "english=87\n",
      "math=56\n",
      "history=91\n",
      "discover=85\n",
      "==============\n",
      "name=學生48\n",
      "chinese=78\n",
      "english=83\n",
      "math=70\n",
      "history=80\n",
      "discover=99\n",
      "==============\n",
      "name=學生49\n",
      "chinese=62\n",
      "english=90\n",
      "math=95\n",
      "history=98\n",
      "discover=96\n",
      "==============\n",
      "name=學生50\n",
      "chinese=94\n",
      "english=85\n",
      "math=90\n",
      "history=81\n",
      "discover=62\n",
      "==============\n"
     ]
    }
   ],
   "source": [
    "#list裡有多組dict\n",
    "import random\n",
    "students = []\n",
    "for i in range(50):\n",
    "    scores = {}\n",
    "    scores['name'] = f\"學生{i+1}\"\n",
    "    scores['chinese'] = random.randint(50,100)      #randint有包含100\n",
    "    scores['english'] = random.randint(50,100)\n",
    "    scores['math'] = random.randint(50,100)\n",
    "    scores['history'] = random.randint(50,100)\n",
    "    scores['discover'] = random.randint(50,100)\n",
    "    students.append(scores)\n",
    "print(students)\n",
    "\n",
    "for student in students:\n",
    "    for key in student:\n",
    "        print(f'{key}={student[key]}')\n",
    "    print(\"==============\")"
   ]
  },
  {
   "cell_type": "markdown",
   "metadata": {},
   "source": [
    "# 4.Set---------->沒有key,也沒有index,元素不能重複"
   ]
  },
  {
   "cell_type": "markdown",
   "metadata": {},
   "source": [
    "### 建立Set : {xxx,yyy,zzz}/set()"
   ]
  },
  {
   "cell_type": "code",
   "execution_count": null,
   "metadata": {},
   "outputs": [],
   "source": [
    "#set裡面元素不會重複\n",
    "s1 = set('letter')\n",
    "s1"
   ]
  },
  {
   "cell_type": "code",
   "execution_count": null,
   "metadata": {},
   "outputs": [],
   "source": [
    "s2 = {2,4,6,8,2,4,6,8}\n",
    "s2"
   ]
  },
  {
   "cell_type": "code",
   "execution_count": 17,
   "metadata": {},
   "outputs": [
    {
     "name": "stdout",
     "output_type": "stream",
     "text": [
      "自動選號:16 17 22 38 41 44 \n",
      "特別號:23\n"
     ]
    }
   ],
   "source": [
    "#撰寫一個大樂透電腦自動選號程式，程式執行會以亂數的方式顯示1-49之間七個不重複的大樂透號碼。\n",
    "import random\n",
    "\n",
    "\n",
    "loto = set()\n",
    "while(len(loto)<7):\n",
    "    loto.add(random.randint(1,49))          #add是set實體的方法\n",
    "\n",
    "loto_list = list(loto)                      #set轉list\n",
    "print('自動選號:',end='')\n",
    "for item in sorted(loto_list[:6]):           #list才能排序,sorted不行\n",
    "    print(item,end=\" \")\n",
    "print()    #換行\n",
    "print(f'特別號:{loto_list[-1]}')"
   ]
  },
  {
   "cell_type": "code",
   "execution_count": null,
   "metadata": {},
   "outputs": [],
   "source": []
  }
 ],
 "metadata": {
  "kernelspec": {
   "display_name": "Python 3",
   "language": "python",
   "name": "python3"
  },
  "language_info": {
   "codemirror_mode": {
    "name": "ipython",
    "version": 3
   },
   "file_extension": ".py",
   "mimetype": "text/x-python",
   "name": "python",
   "nbconvert_exporter": "python",
   "pygments_lexer": "ipython3",
   "version": "3.9.13"
  },
  "orig_nbformat": 4,
  "vscode": {
   "interpreter": {
    "hash": "de47f5c92c0ee6f12a59a5613ac5feff6aab19ddff207ba0b3964cced08c4ccc"
   }
  }
 },
 "nbformat": 4,
 "nbformat_minor": 2
}
