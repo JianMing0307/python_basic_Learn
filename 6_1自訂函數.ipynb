{
 "cells": [
  {
   "cell_type": "markdown",
   "metadata": {},
   "source": [
    "# 自訂函數"
   ]
  },
  {
   "cell_type": "markdown",
   "metadata": {},
   "source": [
    "1.把複雜的邏輯變簡單\n",
    "2.重複呼叫\n",
    "3.讓主程式變簡單"
   ]
  },
  {
   "cell_type": "code",
   "execution_count": 4,
   "metadata": {},
   "outputs": [
    {
     "name": "stdout",
     "output_type": "stream",
     "text": [
      "自動選號:8 12 32 33 35 42 \n",
      "特別號:13\n",
      "\n",
      "自動選號:2 6 12 16 33 38 \n",
      "特別號:26\n",
      "\n",
      "自動選號:8 13 32 37 46 49 \n",
      "特別號:22\n",
      "\n",
      "自動選號:13 15 21 33 41 47 \n",
      "特別號:29\n",
      "\n",
      "自動選號:1 8 10 13 32 41 \n",
      "特別號:31\n",
      "\n",
      "自動選號:2 14 19 21 38 40 \n",
      "特別號:27\n",
      "\n"
     ]
    }
   ],
   "source": [
    "import random\n",
    "def generator_loto():\n",
    "    loto = set()\n",
    "    while(len(loto)<7):\n",
    "        loto.add(random.randint(1,49))\n",
    "\n",
    "    loto_list = list(loto)\n",
    "    print('自動選號:',end='')\n",
    "    for item in sorted(loto_list[:6]):    #sorted為排序\n",
    "        print(item,end=\" \")    \n",
    "    print()                               #換行\n",
    "    print(f'特別號:{loto_list[-1]}')\n",
    "\n",
    "nums = int(input('請輸入電腦自動選號組數:'))\n",
    "for i in range(nums):\n",
    "    generator_loto()\n",
    "    print()"
   ]
  },
  {
   "cell_type": "code",
   "execution_count": null,
   "metadata": {},
   "outputs": [],
   "source": [
    "#有值(字串/數值)就需要return回傳\n",
    "def add(a,b):\n",
    "    return a + b"
   ]
  },
  {
   "cell_type": "code",
   "execution_count": null,
   "metadata": {},
   "outputs": [],
   "source": [
    "sum = add(54,35.9)\n",
    "sum"
   ]
  },
  {
   "cell_type": "code",
   "execution_count": 10,
   "metadata": {},
   "outputs": [
    {
     "name": "stdout",
     "output_type": "stream",
     "text": [
      "您的bmi是:23.53\n",
      "提示:正常範圍\n",
      "您的bmi是:22.49\n",
      "提示:正常範圍\n"
     ]
    }
   ],
   "source": [
    "def bmi(height,weight):\n",
    "    return weight / (height/100) ** 2\n",
    "\n",
    "def suggest(bmi):\n",
    "    if bmi_value<18.5:\n",
    "        message = \"體重過輕\"\n",
    "    elif bmi_value<24:\n",
    "        message = \"正常範圍\"\n",
    "    elif bmi_value<27:\n",
    "        message = \"過重\"\n",
    "    elif bmi_value<30:\n",
    "        message = \"輕度肥胖\"\n",
    "    elif bmi_value<35:\n",
    "        message = \"中度肥胖\"\n",
    "    else:\n",
    "        message = \"重度肥胖\"\n",
    "\n",
    "    return message\n",
    "\n",
    "while(True):\n",
    "    h,w = input(\"請輸入身高,體重\").split()   #字串切割\n",
    "    bmi_value = bmi(int(h),int(w))\n",
    "    print(f\"您的bmi是:{bmi_value:.2f}\")\n",
    "    print(f\"提示:{suggest(bmi_value)}\")\n",
    "    input_value = int(input(\"\\n結束請按0:\"))\n",
    "    if input_value == 0:\n",
    "        break"
   ]
  },
  {
   "cell_type": "code",
   "execution_count": null,
   "metadata": {},
   "outputs": [],
   "source": [
    "# 檢查台灣手機號碼輸入格式(xxxx-xxx-xxx)\n",
    "def isPhoneNumber(text):\n",
    "    if len(text) != 12:\n",
    "        return False\n",
    "    elif not text[:4].isdecimal():\n",
    "        return False\n",
    "    elif text[4] != \"-\":\n",
    "        return False\n",
    "    elif not text[5:8].isdecimal():\n",
    "        return False\n",
    "    elif text[8] != \"-\":\n",
    "        return False\n",
    "    elif not text[-3:].isdecimal():\n",
    "        return False\n",
    "    else:\n",
    "        return True\n",
    "\n",
    "\n",
    "phone_num = input(\"請輸入手機號碼xxxx-xxx-xxx:\")\n",
    "if isPhoneNumber(phone_num):\n",
    "    print(f\"您的手機號碼是:{phone_num}\")\n",
    "else:\n",
    "    print(\"手機號碼格式不正確\")"
   ]
  },
  {
   "cell_type": "code",
   "execution_count": null,
   "metadata": {},
   "outputs": [],
   "source": []
  },
  {
   "cell_type": "code",
   "execution_count": null,
   "metadata": {},
   "outputs": [],
   "source": []
  },
  {
   "cell_type": "code",
   "execution_count": null,
   "metadata": {},
   "outputs": [],
   "source": []
  }
 ],
 "metadata": {
  "kernelspec": {
   "display_name": "base",
   "language": "python",
   "name": "python3"
  },
  "language_info": {
   "codemirror_mode": {
    "name": "ipython",
    "version": 3
   },
   "file_extension": ".py",
   "mimetype": "text/x-python",
   "name": "python",
   "nbconvert_exporter": "python",
   "pygments_lexer": "ipython3",
   "version": "3.9.13"
  },
  "orig_nbformat": 4
 },
 "nbformat": 4,
 "nbformat_minor": 2
}
