{
 "cells": [
  {
   "cell_type": "markdown",
   "metadata": {},
   "source": [
    "# 正規則表達式"
   ]
  },
  {
   "cell_type": "markdown",
   "metadata": {},
   "source": [
    "https://pythex.org/"
   ]
  },
  {
   "cell_type": "code",
   "execution_count": 5,
   "metadata": {},
   "outputs": [
    {
     "name": "stdout",
     "output_type": "stream",
     "text": [
      "格式正確\n"
     ]
    }
   ],
   "source": [
    "import re\n",
    "# 檢查台灣手機號碼輸入格式(xxxx-xxx-xxx)\n",
    "phoneNumRegex = re.compile(r\"\\d\\d\\d\\d-\\d\\d\\d-\\d\\d\\d\")\n",
    "\n",
    "phone_num = input(\"請輸入手機號碼xxxx-xxx-xxx:\")\n",
    "\n",
    "math = re.match(phoneNumRegex,phone_num)\n",
    "\n",
    "if math is None:\n",
    "    print(\"格式不正確\")\n",
    "else:\n",
    "    print(\"格式正確\")"
   ]
  },
  {
   "cell_type": "code",
   "execution_count": 3,
   "metadata": {},
   "outputs": [
    {
     "name": "stdout",
     "output_type": "stream",
     "text": [
      "hello\n",
      "World!\n",
      "hello\\nWorld!\n"
     ]
    }
   ],
   "source": [
    "print(\"hello\\nWorld!\")\n",
    "\n",
    "print(r\"hello\\nWorld!\")"
   ]
  },
  {
   "cell_type": "code",
   "execution_count": 5,
   "metadata": {},
   "outputs": [
    {
     "name": "stdout",
     "output_type": "stream",
     "text": [
      "格式有誤\n"
     ]
    }
   ],
   "source": [
    "#email正規則表示/利用自訂函數\n",
    "def isEmail(text):\n",
    "    emailRegex = re.compile(r\"(^[a-zA-Z0-9_.+-]+@[a-zA-Z0-9-]+\\.[a-zA-Z0-9-.]+$)\")\n",
    "    match = re.match(emailRegex,text)\n",
    "    if match is not None:\n",
    "        return True\n",
    "    else:\n",
    "        return False\n",
    "email = input(\"請輸入email:\")\n",
    "if isEmail(email):\n",
    "    print(\"格式正確\")\n",
    "else:\n",
    "    print(\"格式有誤\")\n"
   ]
  },
  {
   "cell_type": "code",
   "execution_count": 8,
   "metadata": {},
   "outputs": [
    {
     "name": "stdout",
     "output_type": "stream",
     "text": [
      "格式正確\n"
     ]
    }
   ],
   "source": [
    "#身分證正規則表式法\n",
    "def isID(text):\n",
    "    idRegex = re.compile(r\"^[a-zA-Z][0-9]{9}$\")\n",
    "    match = re.match(idRegex,text)\n",
    "    if match is not None:\n",
    "        return True\n",
    "    else:\n",
    "        return False\n",
    "id = input(\"請輸入身分證字號:\")\n",
    "if isID(id):\n",
    "    print(\"格式正確\")\n",
    "else:\n",
    "    print(\"格式有誤\")\n"
   ]
  }
 ],
 "metadata": {
  "kernelspec": {
   "display_name": "Python 3",
   "language": "python",
   "name": "python3"
  },
  "language_info": {
   "codemirror_mode": {
    "name": "ipython",
    "version": 3
   },
   "file_extension": ".py",
   "mimetype": "text/x-python",
   "name": "python",
   "nbconvert_exporter": "python",
   "pygments_lexer": "ipython3",
   "version": "3.9.13"
  },
  "orig_nbformat": 4,
  "vscode": {
   "interpreter": {
    "hash": "de47f5c92c0ee6f12a59a5613ac5feff6aab19ddff207ba0b3964cced08c4ccc"
   }
  }
 },
 "nbformat": 4,
 "nbformat_minor": 2
}
